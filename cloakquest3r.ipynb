{
  "nbformat": 4,
  "nbformat_minor": 0,
  "metadata": {
    "colab": {
      "provenance": []
    },
    "kernelspec": {
      "name": "python3",
      "display_name": "Python 3"
    },
    "language_info": {
      "name": "python"
    }
  },
  "cells": [
    {
      "cell_type": "code",
      "execution_count": 3,
      "metadata": {
        "colab": {
          "base_uri": "https://localhost:8080/"
        },
        "id": "TIsiOFgBBles",
        "outputId": "a2b32f66-a749-4762-ca32-cc8053b38e43"
      },
      "outputs": [
        {
          "output_type": "stream",
          "name": "stdout",
          "text": [
            "fatal: destination path 'CloakQuest3r' already exists and is not an empty directory.\n"
          ]
        }
      ],
      "source": [
        "! git clone https://github.com/spyboy-productions/CloakQuest3r.git"
      ]
    },
    {
      "cell_type": "code",
      "source": [
        "cd CloakQuest3r"
      ],
      "metadata": {
        "colab": {
          "base_uri": "https://localhost:8080/"
        },
        "id": "8sk7FSkHB3Ka",
        "outputId": "80b3b737-b830-432e-9aa0-33a35ebc3202"
      },
      "execution_count": 4,
      "outputs": [
        {
          "output_type": "stream",
          "name": "stdout",
          "text": [
            "/content/CloakQuest3r\n"
          ]
        }
      ]
    },
    {
      "cell_type": "code",
      "source": [
        "!pip install -r requirements.txt"
      ],
      "metadata": {
        "colab": {
          "base_uri": "https://localhost:8080/"
        },
        "id": "sRZIKUz9B5a9",
        "outputId": "265da5bb-f3fb-4b4c-98b9-9d3c188cd081"
      },
      "execution_count": 5,
      "outputs": [
        {
          "output_type": "stream",
          "name": "stdout",
          "text": [
            "Requirement already satisfied: requests in /usr/local/lib/python3.11/dist-packages (from -r requirements.txt (line 1)) (2.32.3)\n",
            "Collecting colorama (from -r requirements.txt (line 2))\n",
            "  Downloading colorama-0.4.6-py2.py3-none-any.whl.metadata (17 kB)\n",
            "Collecting bs4 (from -r requirements.txt (line 3))\n",
            "  Downloading bs4-0.0.2-py2.py3-none-any.whl.metadata (411 bytes)\n",
            "Requirement already satisfied: cryptography in /usr/local/lib/python3.11/dist-packages (from -r requirements.txt (line 4)) (43.0.3)\n",
            "Requirement already satisfied: charset-normalizer<4,>=2 in /usr/local/lib/python3.11/dist-packages (from requests->-r requirements.txt (line 1)) (3.4.2)\n",
            "Requirement already satisfied: idna<4,>=2.5 in /usr/local/lib/python3.11/dist-packages (from requests->-r requirements.txt (line 1)) (3.10)\n",
            "Requirement already satisfied: urllib3<3,>=1.21.1 in /usr/local/lib/python3.11/dist-packages (from requests->-r requirements.txt (line 1)) (2.4.0)\n",
            "Requirement already satisfied: certifi>=2017.4.17 in /usr/local/lib/python3.11/dist-packages (from requests->-r requirements.txt (line 1)) (2025.4.26)\n",
            "Requirement already satisfied: beautifulsoup4 in /usr/local/lib/python3.11/dist-packages (from bs4->-r requirements.txt (line 3)) (4.13.4)\n",
            "Requirement already satisfied: cffi>=1.12 in /usr/local/lib/python3.11/dist-packages (from cryptography->-r requirements.txt (line 4)) (1.17.1)\n",
            "Requirement already satisfied: pycparser in /usr/local/lib/python3.11/dist-packages (from cffi>=1.12->cryptography->-r requirements.txt (line 4)) (2.22)\n",
            "Requirement already satisfied: soupsieve>1.2 in /usr/local/lib/python3.11/dist-packages (from beautifulsoup4->bs4->-r requirements.txt (line 3)) (2.7)\n",
            "Requirement already satisfied: typing-extensions>=4.0.0 in /usr/local/lib/python3.11/dist-packages (from beautifulsoup4->bs4->-r requirements.txt (line 3)) (4.13.2)\n",
            "Downloading colorama-0.4.6-py2.py3-none-any.whl (25 kB)\n",
            "Downloading bs4-0.0.2-py2.py3-none-any.whl (1.2 kB)\n",
            "Installing collected packages: colorama, bs4\n",
            "Successfully installed bs4-0.0.2 colorama-0.4.6\n"
          ]
        }
      ]
    },
    {
      "cell_type": "code",
      "source": [
        "!python cloakquest3r.py storylife.fr"
      ],
      "metadata": {
        "colab": {
          "base_uri": "https://localhost:8080/"
        },
        "id": "lMMSxCGYB7Ka",
        "outputId": "2526b530-246c-4a33-baa8-a6e670818596"
      },
      "execution_count": null,
      "outputs": [
        {
          "output_type": "stream",
          "name": "stdout",
          "text": [
            "\u001b[31m\n",
            "   ___ _             _      ____                 _   _____\n",
            "  / __\\ | ___   __ _| | __ /___ \\_   _  ___  ___| |_|___ / _ __\n",
            " / /  | |/ _ \\ / _` | |/ ///  / / | | |/ _ \\/ __| __| |_ \\| '__|\n",
            "/ /___| | (_) | (_| |   </ \\_/ /| |_| |  __/\\__ \\ |_ ___) | |\n",
            "\\____/|_|\\___/ \\__,_|_|\\_\\___,_\\ \\__,_|\\___||___/\\__|____/|_|\n",
            "Uncover the true IP address of websites safeguarded by Cloudflare & ohers.\n",
            "\u001b[0m\n",
            "\n",
            "\u001b[32m[+] \u001b[33mVersion      : \u001b[0m1.0.5\n",
            "\u001b[32m[+] \u001b[33mCreated By   : \u001b[0mSpyboy\n",
            "\u001b[32m └➤ \u001b[33mTwitter      : \u001b[0mhttps://spyboy.in/twitter\n",
            "\u001b[32m └➤ \u001b[33mDiscord      : \u001b[0mhttps://spyboy.in/Discord\n",
            "\u001b[32m └➤ \u001b[33mWebsite      : \u001b[0mhttps://spyboy.in/\n",
            "\u001b[32m └➤ \u001b[33mBlog         : \u001b[0mhttps://spyboy.blog/\n",
            "\u001b[32m └➤ \u001b[33mGithub       : \u001b[0mhttps://github.com/spyboy-productions/CloakQuest3r\n",
            "\n",
            "\n",
            "\u001b[32m[!] \u001b[36mChecking if the website uses Cloudflare\u001b[39m\n",
            "\n",
            "\n",
            "\u001b[31mTarget Website: \u001b[0mstorylife.fr\n",
            "\u001b[31mVisible IP Address: \u001b[0m104.21.75.104\n",
            "\n",
            "\n",
            "\u001b[32m[+] \u001b[33mHistorical IP Address Info from \u001b[36mSecurityTrails\u001b[33m for \u001b[32mstorylife.fr:\u001b[0m\n",
            "\n",
            "\u001b[31m [+] \u001b[36mIP Address: \u001b[31m104.21.75.104\u001b[0m\n",
            "\u001b[33m  └➤ \u001b[36mFirst Seen: \u001b[32m2021-07-20\u001b[0m\n",
            "\u001b[33m  └➤ \u001b[36mLast Seen: \u001b[32m2025-06-04\u001b[0m\n",
            "\u001b[33m  └➤ \u001b[36mOrganizations: \u001b[32mCloudflare, Inc.\u001b[0m\n",
            "\n",
            "\u001b[31m [+] \u001b[36mIP Address: \u001b[31m13.36.6.137\u001b[0m\n",
            "\u001b[33m  └➤ \u001b[36mFirst Seen: \u001b[32m2021-06-29\u001b[0m\n",
            "\u001b[33m  └➤ \u001b[36mLast Seen: \u001b[32m2021-07-20\u001b[0m\n",
            "\u001b[33m  └➤ \u001b[36mOrganizations: \u001b[32mAmazon.com, Inc.\u001b[0m\n",
            "\n",
            "\u001b[31m [+] \u001b[36mIP Address: \u001b[31m104.26.8.79\u001b[0m\n",
            "\u001b[33m  └➤ \u001b[36mFirst Seen: \u001b[32m2021-05-16\u001b[0m\n",
            "\u001b[33m  └➤ \u001b[36mLast Seen: \u001b[32m2021-06-28\u001b[0m\n",
            "\u001b[33m  └➤ \u001b[36mOrganizations: \u001b[32mCloudflare, Inc.\u001b[0m\n",
            "\n",
            "\u001b[31m [+] \u001b[36mIP Address: \u001b[31m104.21.69.237\u001b[0m\n",
            "\u001b[33m  └➤ \u001b[36mFirst Seen: \u001b[32m2021-02-14\u001b[0m\n",
            "\u001b[33m  └➤ \u001b[36mLast Seen: \u001b[32m2021-05-16\u001b[0m\n",
            "\u001b[33m  └➤ \u001b[36mOrganizations: \u001b[32mCloudflare, Inc.\u001b[0m\n",
            "\n",
            "\u001b[31m [+] \u001b[36mIP Address: \u001b[31m75.2.37.224\u001b[0m\n",
            "\u001b[33m  └➤ \u001b[36mFirst Seen: \u001b[32m2021-01-12\u001b[0m\n",
            "\u001b[33m  └➤ \u001b[36mLast Seen: \u001b[32m2021-02-14\u001b[0m\n",
            "\u001b[33m  └➤ \u001b[36mOrganizations: \u001b[32mAmazon.com, Inc.\u001b[0m\n",
            "\n",
            "\u001b[32m[+] \u001b[33mScanning for subdomains.\u001b[39m\n",
            "\n",
            "\u001b[32m[+] \u001b[36mDownloading an updated wordlist from \u001b[32mSecLists\u001b[39m\n",
            "\u001b[32m[+] \u001b[36mWordlist downloaded successfully as \u001b[32mwordlist.txt\u001b[39m\n",
            "\n",
            "\u001b[36m> Do you have a custom wordlist for subdomain scanning? \u001b[32m(yes/no): "
          ]
        }
      ]
    }
  ]
}